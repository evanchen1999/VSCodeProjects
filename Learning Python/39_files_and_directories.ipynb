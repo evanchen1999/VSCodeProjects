{
 "cells": [
  {
   "cell_type": "code",
   "execution_count": 1,
   "metadata": {},
   "outputs": [],
   "source": [
    "# Files and Directories"
   ]
  },
  {
   "cell_type": "code",
   "execution_count": 2,
   "metadata": {},
   "outputs": [],
   "source": [
    "from pathlib import Path"
   ]
  },
  {
   "cell_type": "code",
   "execution_count": 8,
   "metadata": {},
   "outputs": [
    {
     "name": "stdout",
     "output_type": "stream",
     "text": [
      "True\n",
      "converters.py\n",
      "utils.py\n"
     ]
    }
   ],
   "source": [
    "path = Path(\"ecommerce\")\n",
    "print(path.exists())\n",
    "\n",
    "\n",
    "path = Path()\n",
    "for file in path.glob(\"*.py\"):\n",
    "    print(file)\n",
    "\n",
    "\n",
    "# path = Path(\"email\")\n",
    "# print(path.mkdir())\n",
    "\n",
    "# Makes directory and adds the file to projects\n",
    "\n",
    "# Absolute path\n",
    "# c:\\Program Files\\Microsoft (Start root of hard disk)\n",
    "\n",
    "# Relative path\n",
    "# Path starting from current directory (start from end to elsewhere on disk)"
   ]
  }
 ],
 "metadata": {
  "kernelspec": {
   "display_name": "Python 3",
   "language": "python",
   "name": "python3"
  },
  "language_info": {
   "codemirror_mode": {
    "name": "ipython",
    "version": 3
   },
   "file_extension": ".py",
   "mimetype": "text/x-python",
   "name": "python",
   "nbconvert_exporter": "python",
   "pygments_lexer": "ipython3",
   "version": "3.11.9"
  }
 },
 "nbformat": 4,
 "nbformat_minor": 2
}
