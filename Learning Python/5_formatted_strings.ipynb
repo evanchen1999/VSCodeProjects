{
 "cells": [
  {
   "cell_type": "code",
   "execution_count": null,
   "metadata": {},
   "outputs": [],
   "source": [
    "# Formated Strings\n",
    "# Easier to visualize the output of strings"
   ]
  },
  {
   "cell_type": "code",
   "execution_count": 4,
   "metadata": {},
   "outputs": [
    {
     "name": "stdout",
     "output_type": "stream",
     "text": [
      "John [Smith] is a coder\n",
      "John [Smith] is a coder\n"
     ]
    }
   ],
   "source": [
    "first = 'John'\n",
    "last = 'Smith'\n",
    "message = first + ' [' + last + '] is a coder'\n",
    "msg = f'{first} [{last}] is a coder'\n",
    "print(message)\n",
    "print(msg)"
   ]
  }
 ],
 "metadata": {
  "kernelspec": {
   "display_name": "Python 3",
   "language": "python",
   "name": "python3"
  },
  "language_info": {
   "codemirror_mode": {
    "name": "ipython",
    "version": 3
   },
   "file_extension": ".py",
   "mimetype": "text/x-python",
   "name": "python",
   "nbconvert_exporter": "python",
   "pygments_lexer": "ipython3",
   "version": "3.11.9"
  }
 },
 "nbformat": 4,
 "nbformat_minor": 2
}
