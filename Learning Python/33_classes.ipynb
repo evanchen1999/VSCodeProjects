{
 "cells": [
  {
   "cell_type": "code",
   "execution_count": 2,
   "metadata": {},
   "outputs": [],
   "source": [
    "# Classes\n",
    "\n",
    "'''\n",
    "Example of basic tpyes\n",
    "\n",
    "Numbers\n",
    "Strings\n",
    "Booleans\n",
    "---\n",
    "List\n",
    "Dictionaries\n",
    "\n",
    "---------------------------\n",
    "\n",
    "Object is instance of class\n",
    "\n",
    "Class is the blueprint or template to create objects\n",
    "\n",
    "These objects can have attributes (Like variables in object)\n",
    "\n",
    "\n",
    "'''"
   ]
  },
  {
   "cell_type": "code",
   "execution_count": 6,
   "metadata": {},
   "outputs": [
    {
     "name": "stdout",
     "output_type": "stream",
     "text": [
      "10\n",
      "draw\n",
      "1\n"
     ]
    }
   ],
   "source": [
    "class Point:\n",
    "    def move(self):\n",
    "        print(\"move\")\n",
    "    def draw(self):\n",
    "        print(\"draw\")\n",
    "\n",
    "point1 = Point()\n",
    "point1.x = 10\n",
    "point1.y = 20\n",
    "print(point1.x)\n",
    "point1.draw()\n",
    "\n",
    "point2 = Point()\n",
    "point2.x = 1\n",
    "print(point2.x)\n",
    "\n"
   ]
  }
 ],
 "metadata": {
  "kernelspec": {
   "display_name": "Python 3",
   "language": "python",
   "name": "python3"
  },
  "language_info": {
   "codemirror_mode": {
    "name": "ipython",
    "version": 3
   },
   "file_extension": ".py",
   "mimetype": "text/x-python",
   "name": "python",
   "nbconvert_exporter": "python",
   "pygments_lexer": "ipython3",
   "version": "3.11.9"
  }
 },
 "nbformat": 4,
 "nbformat_minor": 2
}
