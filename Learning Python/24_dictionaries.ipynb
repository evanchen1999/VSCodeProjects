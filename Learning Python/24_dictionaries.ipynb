{
 "cells": [
  {
   "cell_type": "code",
   "execution_count": 1,
   "metadata": {},
   "outputs": [],
   "source": [
    "# Dictionaries\n",
    "\n",
    "# Each key is unique, no duplicates\n",
    "# Values can be a string, number, boolean, list, etc."
   ]
  },
  {
   "cell_type": "code",
   "execution_count": 11,
   "metadata": {},
   "outputs": [
    {
     "name": "stdout",
     "output_type": "stream",
     "text": [
      "Jan 1 1959\n",
      "Jack Smith\n",
      "Jack Smith\n",
      "Jan 1 1959\n"
     ]
    }
   ],
   "source": [
    "customer = {\n",
    "\n",
    "    \"name\": \"John Smith\",\n",
    "    \"age\": 30,\n",
    "    \"is_verified\": True\n",
    " }\n",
    "\n",
    "customer[\"name\"] = \"Jack Smith\"\n",
    "\n",
    "customer[\"birthdate\"] = \"Jan 1 1959\"\n",
    "print(customer[\"birthdate\"])\n",
    "\n",
    "print(customer[\"name\"])\n",
    "print(customer.get(\"name\"))\n",
    "print(customer.get(\"birthdate\", \"Jan 1 1980\"))"
   ]
  },
  {
   "cell_type": "code",
   "execution_count": 12,
   "metadata": {},
   "outputs": [],
   "source": [
    "# Test Question"
   ]
  },
  {
   "cell_type": "code",
   "execution_count": 34,
   "metadata": {},
   "outputs": [
    {
     "name": "stdout",
     "output_type": "stream",
     "text": [
      "! \n"
     ]
    }
   ],
   "source": [
    "phone = input(\"Phone: \")\n",
    "\n",
    "digits_mapping = {\n",
    "\n",
    "    \"1\" : \"One\",\n",
    "    \"2\" : \"Two\",\n",
    "    \"3\" : \"Three\",\n",
    "    \"4\" : \"Four\",\n",
    "    \n",
    "}\n",
    "\n",
    "output = \"\"\n",
    "for ch in phone:\n",
    "    output += digits_mapping.get(ch, \"!\") + \" \"\n",
    "print(output)"
   ]
  }
 ],
 "metadata": {
  "kernelspec": {
   "display_name": "Python 3",
   "language": "python",
   "name": "python3"
  },
  "language_info": {
   "codemirror_mode": {
    "name": "ipython",
    "version": 3
   },
   "file_extension": ".py",
   "mimetype": "text/x-python",
   "name": "python",
   "nbconvert_exporter": "python",
   "pygments_lexer": "ipython3",
   "version": "3.11.9"
  }
 },
 "nbformat": 4,
 "nbformat_minor": 2
}
