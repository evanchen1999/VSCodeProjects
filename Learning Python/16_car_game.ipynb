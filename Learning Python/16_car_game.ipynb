{
 "cells": [
  {
   "cell_type": "code",
   "execution_count": 1,
   "metadata": {},
   "outputs": [],
   "source": [
    "# Car Game"
   ]
  },
  {
   "cell_type": "code",
   "execution_count": null,
   "metadata": {},
   "outputs": [],
   "source": [
    "# My code"
   ]
  },
  {
   "cell_type": "code",
   "execution_count": 3,
   "metadata": {},
   "outputs": [
    {
     "name": "stdout",
     "output_type": "stream",
     "text": [
      "I don't understand that\n"
     ]
    }
   ],
   "source": [
    "help = input(\">\")\n",
    "\n",
    "if help.lower() == \"help\":\n",
    "    print(\"start - to start the car \\n\"\n",
    "          \"stop - to stop the car \\n\"\n",
    "          \"quit - to exit \\n\")\n",
    "else:\n",
    "    print(\"I don't understand that\")\n",
    "\n",
    "while help.lower() == \"help\":\n",
    "    car_input = input(\">\")\n",
    "    if car_input == \"start\":\n",
    "        print(\"Car started...Ready to go!\")\n",
    "    elif car_input == \"stop\":\n",
    "        print(\"Car stopped.\")\n",
    "    else: \n",
    "        car_input == \"quit\"\n",
    "        print(\"quit\")\n",
    "        break\n",
    "    \n",
    "\n",
    "    \n",
    "\n",
    "\n",
    "\n",
    "\n"
   ]
  },
  {
   "cell_type": "code",
   "execution_count": 4,
   "metadata": {},
   "outputs": [],
   "source": [
    "# Youtube Solution"
   ]
  },
  {
   "cell_type": "code",
   "execution_count": 5,
   "metadata": {},
   "outputs": [
    {
     "name": "stdout",
     "output_type": "stream",
     "text": [
      "Car started...\n",
      "Car is already started\n",
      "Car stopped.\n",
      "Car already stopped.\n",
      "I don't understand that\n",
      "I don't understand that\n"
     ]
    }
   ],
   "source": [
    "command = \"\"\n",
    "started = False\n",
    "\n",
    "while True:\n",
    "    command = input(\">\").lower()\n",
    "    if command == \"start\":\n",
    "        if started:\n",
    "            print(\"Car is already started\")\n",
    "        else:\n",
    "            started = True\n",
    "            print(\"Car started...\")\n",
    "    elif command == \"stop\":\n",
    "        if not started:\n",
    "            print(\"Car already stopped.\")\n",
    "        else:\n",
    "            started = False\n",
    "            print(\"Car stopped.\")\n",
    "    elif command == \"help\":\n",
    "        print('''\n",
    "start - to start the car \n",
    "stop - to stop the car \n",
    "quit - to exit \n",
    "            ''')\n",
    "    elif command == \"quit\":\n",
    "        break\n",
    "    else:\n",
    "        print(\"I don't understand that\")"
   ]
  }
 ],
 "metadata": {
  "kernelspec": {
   "display_name": "Python 3",
   "language": "python",
   "name": "python3"
  },
  "language_info": {
   "codemirror_mode": {
    "name": "ipython",
    "version": 3
   },
   "file_extension": ".py",
   "mimetype": "text/x-python",
   "name": "python",
   "nbconvert_exporter": "python",
   "pygments_lexer": "ipython3",
   "version": "3.11.9"
  }
 },
 "nbformat": 4,
 "nbformat_minor": 2
}
