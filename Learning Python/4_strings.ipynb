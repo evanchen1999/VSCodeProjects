{
 "cells": [
  {
   "cell_type": "code",
   "execution_count": null,
   "metadata": {},
   "outputs": [],
   "source": [
    "# Strings"
   ]
  },
  {
   "cell_type": "code",
   "execution_count": 7,
   "metadata": {},
   "outputs": [
    {
     "name": "stdout",
     "output_type": "stream",
     "text": [
      "Python's Course for Beginners\n",
      "Pyhon Course for \"Beginners\"\n",
      "\n",
      "Hi John\n",
      "\n",
      "Here is our first email to you.\n",
      "\n",
      "Thank you,\n",
      "The Support Team\n",
      "\n"
     ]
    }
   ],
   "source": [
    "course = \"Python's Course for Beginners\"\n",
    "course1 = 'Pyhon Course for \"Beginners\"'\n",
    "course2 = '''\n",
    "Hi John\n",
    "\n",
    "Here is our first email to you.\n",
    "\n",
    "Thank you,\n",
    "The Support Team\n",
    "'''\n",
    "print(course)\n",
    "print(course1)\n",
    "print(course2)"
   ]
  },
  {
   "cell_type": "code",
   "execution_count": 4,
   "metadata": {},
   "outputs": [
    {
     "name": "stdout",
     "output_type": "stream",
     "text": [
      "P\n",
      "s\n",
      "Pyt\n",
      "yt\n",
      "Pytho\n",
      "n for beginners\n",
      "Python for beginners\n"
     ]
    }
   ],
   "source": [
    "course = 'Python for beginners'\n",
    "another = course[:]\n",
    "print(course[0])\n",
    "print(course[-1])\n",
    "print(course[0:3])\n",
    "print(course[1:3])\n",
    "print(course[:5])\n",
    "print(course[5:])\n",
    "print(another)"
   ]
  },
  {
   "cell_type": "code",
   "execution_count": 11,
   "metadata": {},
   "outputs": [
    {
     "name": "stdout",
     "output_type": "stream",
     "text": [
      "nnif\n"
     ]
    }
   ],
   "source": [
    "name = 'Jennifer'\n",
    "print(name[2:-2])"
   ]
  }
 ],
 "metadata": {
  "kernelspec": {
   "display_name": "Python 3",
   "language": "python",
   "name": "python3"
  },
  "language_info": {
   "codemirror_mode": {
    "name": "ipython",
    "version": 3
   },
   "file_extension": ".py",
   "mimetype": "text/x-python",
   "name": "python",
   "nbconvert_exporter": "python",
   "pygments_lexer": "ipython3",
   "version": "3.11.9"
  }
 },
 "nbformat": 4,
 "nbformat_minor": 2
}
