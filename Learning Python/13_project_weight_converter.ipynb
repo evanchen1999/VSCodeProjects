{
 "cells": [
  {
   "cell_type": "code",
   "execution_count": 1,
   "metadata": {},
   "outputs": [],
   "source": [
    "# Project: Weight Converter"
   ]
  },
  {
   "cell_type": "code",
   "execution_count": 61,
   "metadata": {},
   "outputs": [],
   "source": [
    "# Solution 1\n",
    "\n",
    "weight = int(input(\"Weight: \"))\n",
    "lb_or_kg = input(\"(L)bs or (K)g: \")\n",
    "\n",
    "if lb_or_kg.upper() in \"K\":\n",
    "    converted = weight * 2.205\n",
    "    print(f'You are {converted} pounds')\n",
    "elif lb_or_kg.upper() in \"L\":\n",
    "    converted = weight / 2.205\n",
    "    print(f'You are {converted} kilos')\n",
    "\n",
    "\n"
   ]
  },
  {
   "cell_type": "code",
   "execution_count": 60,
   "metadata": {},
   "outputs": [
    {
     "name": "stdout",
     "output_type": "stream",
     "text": [
      "You are 333.3333333333333 pounds\n"
     ]
    }
   ],
   "source": [
    "# Solution 2\n",
    "\n",
    "weight = int(input(\"Weight: \"))\n",
    "unit = input(\"(L)bs or (K)g: \")\n",
    "\n",
    "if unit.upper() == \"L\":\n",
    "    converted = weight * 0.45\n",
    "    print(f'You are {converted} kilos')\n",
    "else:\n",
    "    converted = weight / 0.45\n",
    "    print(f\"You are {converted} pounds\")"
   ]
  }
 ],
 "metadata": {
  "kernelspec": {
   "display_name": "Python 3",
   "language": "python",
   "name": "python3"
  },
  "language_info": {
   "codemirror_mode": {
    "name": "ipython",
    "version": 3
   },
   "file_extension": ".py",
   "mimetype": "text/x-python",
   "name": "python",
   "nbconvert_exporter": "python",
   "pygments_lexer": "ipython3",
   "version": "3.11.9"
  }
 },
 "nbformat": 4,
 "nbformat_minor": 2
}
