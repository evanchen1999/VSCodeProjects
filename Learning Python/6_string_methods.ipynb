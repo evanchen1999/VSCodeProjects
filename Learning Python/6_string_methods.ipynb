{
 "cells": [
  {
   "cell_type": "code",
   "execution_count": 40,
   "metadata": {},
   "outputs": [],
   "source": [
    "# String Methods\n",
    "# . is specific to the function\n",
    "# Not all functions have methods\n",
    "# Methods are tied to objects and can modify data output"
   ]
  },
  {
   "cell_type": "code",
   "execution_count": 41,
   "metadata": {},
   "outputs": [
    {
     "name": "stdout",
     "output_type": "stream",
     "text": [
      "22\n",
      "PYTHON'S FOR BEGINNERS\n",
      "python's for beginners\n",
      "Python's for Beginners\n"
     ]
    }
   ],
   "source": [
    "course = \"Python's for Beginners\"\n",
    "print(len(course))\n",
    "print(course.upper())\n",
    "print(course.lower())\n",
    "print(course)"
   ]
  },
  {
   "cell_type": "code",
   "execution_count": 42,
   "metadata": {},
   "outputs": [
    {
     "name": "stdout",
     "output_type": "stream",
     "text": [
      "5\n",
      "-1\n",
      "Python'S For Beginners\n",
      "13\n"
     ]
    }
   ],
   "source": [
    "# .find is case sensitive\n",
    "print(course .find('n'))\n",
    "print(course.find('0'))\n",
    "# converts to uppercase letter after apostrophy\n",
    "print(course.title())\n",
    "# Where the string starts is the index is outputted\n",
    "print(course.find('Beginners'))"
   ]
  },
  {
   "cell_type": "code",
   "execution_count": 43,
   "metadata": {},
   "outputs": [
    {
     "name": "stdout",
     "output_type": "stream",
     "text": [
      "Python's for Absolute Beginners\n"
     ]
    }
   ],
   "source": [
    "print(course.replace('Beginners','Absolute Beginners'))"
   ]
  },
  {
   "cell_type": "code",
   "execution_count": 47,
   "metadata": {},
   "outputs": [
    {
     "name": "stdout",
     "output_type": "stream",
     "text": [
      "True\n"
     ]
    }
   ],
   "source": [
    "print(\"Python\" in course)"
   ]
  }
 ],
 "metadata": {
  "kernelspec": {
   "display_name": "Python 3",
   "language": "python",
   "name": "python3"
  },
  "language_info": {
   "codemirror_mode": {
    "name": "ipython",
    "version": 3
   },
   "file_extension": ".py",
   "mimetype": "text/x-python",
   "name": "python",
   "nbconvert_exporter": "python",
   "pygments_lexer": "ipython3",
   "version": "3.11.9"
  }
 },
 "nbformat": 4,
 "nbformat_minor": 2
}
