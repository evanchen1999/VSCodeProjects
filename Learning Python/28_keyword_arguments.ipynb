{
 "cells": [
  {
   "cell_type": "code",
   "execution_count": 1,
   "metadata": {},
   "outputs": [],
   "source": [
    "# Keyword Arguments \n",
    "\n",
    "# Keyword arguments placement does not matter\n",
    "# If using both positional and keyword, positional is first, then keyword\n",
    "# This is done so that the code is more readable to another coder"
   ]
  },
  {
   "cell_type": "code",
   "execution_count": 7,
   "metadata": {},
   "outputs": [
    {
     "name": "stdout",
     "output_type": "stream",
     "text": [
      "Start\n",
      "Hi John Smith!\n",
      "Welcome aboard\n",
      "Hi Smith John!\n",
      "Welcome aboard\n",
      "Finish\n"
     ]
    }
   ],
   "source": [
    "def greet_user(first_name, last_name):  \n",
    "    print(f'Hi {first_name} {last_name}!')\n",
    "    print(\"Welcome aboard\")\n",
    "\n",
    "\n",
    "print(\"Start\")\n",
    "greet_user(last_name = \"Smith\", first_name = \"John\")\n",
    "greet_user(\"Smith\", last_name = \"John\")\n",
    "#greet_user(\"Mary\")\n",
    "print(\"Finish\")"
   ]
  }
 ],
 "metadata": {
  "kernelspec": {
   "display_name": "Python 3",
   "language": "python",
   "name": "python3"
  },
  "language_info": {
   "codemirror_mode": {
    "name": "ipython",
    "version": 3
   },
   "file_extension": ".py",
   "mimetype": "text/x-python",
   "name": "python",
   "nbconvert_exporter": "python",
   "pygments_lexer": "ipython3",
   "version": "3.11.9"
  }
 },
 "nbformat": 4,
 "nbformat_minor": 2
}
