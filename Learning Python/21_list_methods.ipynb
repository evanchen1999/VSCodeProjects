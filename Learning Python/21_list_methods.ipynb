{
 "cells": [
  {
   "cell_type": "code",
   "execution_count": 1,
   "metadata": {},
   "outputs": [],
   "source": [
    "# List Methods"
   ]
  },
  {
   "cell_type": "code",
   "execution_count": 15,
   "metadata": {},
   "outputs": [
    {
     "name": "stdout",
     "output_type": "stream",
     "text": [
      "2\n",
      "[10, 2, 1, 7, 4]\n",
      "None\n",
      "[10, 7, 4, 2, 1]\n"
     ]
    }
   ],
   "source": [
    "numbers = [5, 2, 1 , 7, 4]\n",
    "\n",
    "# adds new item to end of list\n",
    "numbers.append(20)\n",
    "\n",
    "# inserts new item to specific part of list\n",
    "# \"0\" is location and \"10\" is value to add in list\n",
    "numbers.insert(0,10)\n",
    "\n",
    "# removes first occurence number in list\n",
    "numbers.remove(5)\n",
    "\n",
    "#numbers.clear() - clears entire list\n",
    "\n",
    "# Removes last item in index\n",
    "numbers.pop()\n",
    "print(numbers.index(1))\n",
    "\n",
    "print(numbers)\n",
    "\n",
    "# Sorts our list by acending order\n",
    "print(numbers.sort())\n",
    "\n",
    "# reverses order of list\n",
    "numbers.reverse()\n",
    "print(numbers)\n",
    "\n",
    "# Copies a list to a new list\n",
    "numbers2 = numbers.copy()\n"
   ]
  },
  {
   "cell_type": "code",
   "execution_count": 16,
   "metadata": {},
   "outputs": [],
   "source": [
    "# Test Question\n",
    "\n",
    "# Remove the duplicates in a list"
   ]
  },
  {
   "cell_type": "code",
   "execution_count": 34,
   "metadata": {},
   "outputs": [
    {
     "name": "stdout",
     "output_type": "stream",
     "text": [
      "[2, 3, 4, 6, 1]\n"
     ]
    }
   ],
   "source": [
    "new_list = [2, 2, 4, 6, 3, 4, 6, 1]\n",
    "\n",
    "for number in new_list:\n",
    "    if new_list.count(number) > 1:\n",
    "        new_list.remove(number)\n",
    "print(new_list)"
   ]
  },
  {
   "cell_type": "code",
   "execution_count": 39,
   "metadata": {},
   "outputs": [
    {
     "name": "stdout",
     "output_type": "stream",
     "text": [
      "[2, 4, 6, 3, 1]\n"
     ]
    }
   ],
   "source": [
    "# Youtube Solution\n",
    "\n",
    "new_list2 = [2, 2, 4, 6, 3, 4, 6, 1]\n",
    "uniques = []\n",
    "\n",
    "for number3 in new_list2:\n",
    "    if number3 not in uniques:\n",
    "        uniques.append(number3)\n",
    "print(uniques)"
   ]
  }
 ],
 "metadata": {
  "kernelspec": {
   "display_name": "Python 3",
   "language": "python",
   "name": "python3"
  },
  "language_info": {
   "codemirror_mode": {
    "name": "ipython",
    "version": 3
   },
   "file_extension": ".py",
   "mimetype": "text/x-python",
   "name": "python",
   "nbconvert_exporter": "python",
   "pygments_lexer": "ipython3",
   "version": "3.11.9"
  }
 },
 "nbformat": 4,
 "nbformat_minor": 2
}
