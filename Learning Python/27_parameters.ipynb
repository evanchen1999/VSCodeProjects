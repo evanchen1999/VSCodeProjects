{
 "cells": [
  {
   "cell_type": "code",
   "execution_count": 1,
   "metadata": {},
   "outputs": [],
   "source": [
    "# Parameters\n",
    "\n",
    "''' \n",
    "Parameters are placeholders that we define\n",
    "in our function\n",
    "\n",
    "Arguments are the actual pieces of information\n",
    "that we supply to the functions\n",
    "\n",
    "''' "
   ]
  },
  {
   "cell_type": "code",
   "execution_count": 6,
   "metadata": {},
   "outputs": [
    {
     "name": "stdout",
     "output_type": "stream",
     "text": [
      "Start\n",
      "Hi John Smith!\n",
      "Welcome aboard\n",
      "Finish\n"
     ]
    }
   ],
   "source": [
    "def greet_user(first_name, last_name):  \n",
    "    print(f'Hi {first_name} {last_name}!')\n",
    "    print(\"Welcome aboard\")\n",
    "\n",
    "\n",
    "print(\"Start\")\n",
    "greet_user(\"John\", \"Smith\")\n",
    "#greet_user(\"Mary\")\n",
    "print(\"Finish\")"
   ]
  }
 ],
 "metadata": {
  "kernelspec": {
   "display_name": "Python 3",
   "language": "python",
   "name": "python3"
  },
  "language_info": {
   "codemirror_mode": {
    "name": "ipython",
    "version": 3
   },
   "file_extension": ".py",
   "mimetype": "text/x-python",
   "name": "python",
   "nbconvert_exporter": "python",
   "pygments_lexer": "ipython3",
   "version": "3.11.9"
  }
 },
 "nbformat": 4,
 "nbformat_minor": 2
}
