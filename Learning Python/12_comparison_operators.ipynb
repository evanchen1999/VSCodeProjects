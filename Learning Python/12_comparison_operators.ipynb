{
 "cells": [
  {
   "cell_type": "code",
   "execution_count": 1,
   "metadata": {},
   "outputs": [],
   "source": [
    "# Comparision Operators\n",
    "'''\n",
    ">   Greater than\n",
    "<   Less than\n",
    ">=  Greater than or equal to\n",
    "<=  Less than or equal to\n",
    "==  equal to\n",
    "!=  Not equal to\n",
    "'''"
   ]
  },
  {
   "cell_type": "code",
   "execution_count": 3,
   "metadata": {},
   "outputs": [
    {
     "name": "stdout",
     "output_type": "stream",
     "text": [
      "It's a hot day\n"
     ]
    }
   ],
   "source": [
    "temperature = 30\n",
    "\n",
    "if temperature == 30:\n",
    "    print(\"It's a hot day\")\n",
    "else:\n",
    "    print(\"It's not a hot day\")"
   ]
  },
  {
   "cell_type": "code",
   "execution_count": 4,
   "metadata": {},
   "outputs": [],
   "source": [
    "# Test Question"
   ]
  },
  {
   "cell_type": "code",
   "execution_count": 14,
   "metadata": {},
   "outputs": [
    {
     "name": "stdout",
     "output_type": "stream",
     "text": [
      "Name looks good!\n"
     ]
    }
   ],
   "source": [
    "name = 'Evan'\n",
    "\n",
    "if len(name) < 3:\n",
    "    print(\"Name must be at least 3 characters long.\")\n",
    "elif len(name) > 50:\n",
    "    print('Name must be a maximum of 50 characters long.')\n",
    "else:\n",
    "    print('Name looks good!')"
   ]
  }
 ],
 "metadata": {
  "kernelspec": {
   "display_name": "Python 3",
   "language": "python",
   "name": "python3"
  },
  "language_info": {
   "codemirror_mode": {
    "name": "ipython",
    "version": 3
   },
   "file_extension": ".py",
   "mimetype": "text/x-python",
   "name": "python",
   "nbconvert_exporter": "python",
   "pygments_lexer": "ipython3",
   "version": "3.11.9"
  }
 },
 "nbformat": 4,
 "nbformat_minor": 2
}
