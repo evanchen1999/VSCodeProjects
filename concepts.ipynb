{
 "cells": [
  {
   "cell_type": "code",
   "execution_count": 6,
   "metadata": {},
   "outputs": [],
   "source": [
    "''' Statements\n",
    "Variables, assignments and types\n",
    "'''\n",
    "\n",
    "# (variable assignment)\n",
    "num1 : int = 0\n",
    "num2 : float = 3.4\n",
    "\n",
    "# dynamic typing\n",
    "num1 + num2 \n",
    "\n",
    "# strings\n",
    "str1 : str = \"hello\" \n",
    "#casting (changing a type)\n",
    "str1 + str(num1)\n",
    "\n",
    "# boolean\n",
    "status : bool = True"
   ]
  },
  {
   "cell_type": "code",
   "execution_count": 2,
   "metadata": {},
   "outputs": [
    {
     "name": "stdout",
     "output_type": "stream",
     "text": [
      "three\n"
     ]
    }
   ],
   "source": [
    "# list \n",
    "# - index access\n",
    "list1 = [ 1, 2, \"three\"]\n",
    "list1[0]\n",
    "\n",
    "# dictionary \n",
    "# - key access\n",
    "dict1 = {\n",
    "    'NASDAQ' : {\n",
    "        'name': 'AAPL',\n",
    "        'price' : 33.3\n",
    "    },\n",
    "    'NYSE' : 2\n",
    "}\n",
    "\n",
    "dict1[\"NASDAQ\"]['name']\n",
    "\n",
    "for item in list1: \n",
    "    if item == \"three\": \n",
    "        print(item)\n",
    "\n",
    "records = [\n",
    "    {\n",
    "        'name': 'AAPL',\n",
    "        'price' : 33.3\n",
    "    },\n",
    "    {\n",
    "        'name': 'MSFT',\n",
    "        'price' : 1.3\n",
    "    }\n",
    "]\n"
   ]
  },
  {
   "cell_type": "code",
   "execution_count": 3,
   "metadata": {},
   "outputs": [
    {
     "data": {
      "text/plain": [
       "' Statements\\nVar Operations\\n'"
      ]
     },
     "execution_count": 3,
     "metadata": {},
     "output_type": "execute_result"
    }
   ],
   "source": [
    "''' Statements\n",
    "Var Operations\n",
    "'''"
   ]
  },
  {
   "cell_type": "code",
   "execution_count": 8,
   "metadata": {},
   "outputs": [
    {
     "name": "stdout",
     "output_type": "stream",
     "text": [
      "yay\n"
     ]
    }
   ],
   "source": [
    "'''\n",
    "Conditionals \n",
    "'''\n",
    "check = True \n",
    "\n",
    "# < > <= >= == !=\n",
    "if check == True:  # if check:\n",
    "    print(\"yay\")\n",
    "elif check == False: # if not check\n",
    "    print(\"god damn\")\n",
    "else:\n",
    "    print(\"void\")\n",
    "\n",
    "while not check: \n",
    "    print(\"infinite\")\n",
    "\n"
   ]
  },
  {
   "cell_type": "code",
   "execution_count": null,
   "metadata": {},
   "outputs": [
    {
     "name": "stdout",
     "output_type": "stream",
     "text": [
      "1\n",
      "2\n",
      "3\n"
     ]
    }
   ],
   "source": [
    "''' \n",
    "Looping \n",
    "- For\n",
    "- foreach\n",
    "'''\n",
    "l1 = [1, 2, 3]\n",
    "for item in l1:\n",
    "    print(item)\n",
    "\n",
    "# for (int i; i<3; i++)"
   ]
  },
  {
   "cell_type": "code",
   "execution_count": null,
   "metadata": {},
   "outputs": [
    {
     "name": "stdout",
     "output_type": "stream",
     "text": [
      "hi mom\n",
      "hi mom\n"
     ]
    }
   ],
   "source": [
    "'''Encapsulation 1\n",
    "Functions\n",
    "'''\n",
    "\n",
    "def my_func(arg1):\n",
    "    print(arg1)\n",
    "    return arg1\n",
    "    \n",
    "\n",
    "var = my_func(\"hi mom\")\n",
    "print(var)"
   ]
  },
  {
   "cell_type": "code",
   "execution_count": 9,
   "metadata": {},
   "outputs": [
    {
     "name": "stdout",
     "output_type": "stream",
     "text": [
      "init done\n",
      "user1 user2\n"
     ]
    }
   ],
   "source": [
    "''' Encapsulation 2\n",
    "Classes \n",
    "- members\n",
    "- constructors\n",
    "- private/public functions\n",
    "'''\n",
    "class my_class:\n",
    "\n",
    "    member1 = None\n",
    "    member2 = None\n",
    "\n",
    "    def __init__(self, m1, m2):\n",
    "        self.member1 = m1 \n",
    "        self.member2 = m2 \n",
    "        print(\"init done\")\n",
    "    \n",
    "    def say_hello(self):\n",
    "        print(self.member1, self.member2)\n",
    "\n",
    "new_class = my_class(\"user1\", \"user2\")\n",
    "new_class.say_hello()\n",
    "    \n"
   ]
  },
  {
   "cell_type": "code",
   "execution_count": null,
   "metadata": {},
   "outputs": [],
   "source": []
  }
 ],
 "metadata": {
  "kernelspec": {
   "display_name": "Python 3",
   "language": "python",
   "name": "python3"
  },
  "language_info": {
   "codemirror_mode": {
    "name": "ipython",
    "version": 3
   },
   "file_extension": ".py",
   "mimetype": "text/x-python",
   "name": "python",
   "nbconvert_exporter": "python",
   "pygments_lexer": "ipython3",
   "version": "3.11.9"
  }
 },
 "nbformat": 4,
 "nbformat_minor": 2
}
